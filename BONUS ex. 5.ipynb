{
 "cells": [
  {
   "cell_type": "markdown",
   "metadata": {},
   "source": [
    "## BONUS:"
   ]
  },
  {
   "cell_type": "markdown",
   "metadata": {},
   "source": [
    "$X[i]=\mathop{{max}\vphantom{\\sim}}(1,\mathop{{max}\vphantom{\sim}}\limits_{\displaystyle _{\mathbf j=0,...,i-1}}(1+X[j]))$\n",
    "\n",
    "with \n",
    " - $X[i] =$ length of the longest subsequence in alphabetic order that ends in the element at index $i$\n",
    " - $S[i]=$ element $i$ of the sequence of letters\n",
    " - $S[j]<S[i]$\n",
    " \n",
    " \n",
    " \n",
    " "
   ]
  },
  {
   "cell_type": "markdown",
   "metadata": {},
   "source": [
    "### Proof:"
   ]
  },
  {
   "cell_type": "markdown",
   "metadata": {},
   "source": [
    "We define an array $X[0,...,k]$, where $X[i]$ is the length of the longest subsequence in alphabetic order that ends in the element at index $i$.\n",
    "\n",
    "We will compute this array gradually: first $X[0]$, then $X[1]$, $X[2]$, and so on. After this array is computed, the answer to the problem will be the maximum value in the array X.\n",
    "\n",
    "So let the current index be $i$: we want to compute the value $X[i]$ and all previous values $X[0],…,X[i−1]$ are already known.\n",
    "\n",
    "It could happen that:\n",
    "\n",
    "\n",
    "- $X[i]=1 \\rightarrow $ subsequence consists of only the element $S[i]$\n",
    "- $X[i]>1 \\rightarrow $ There is another element $S[j]<S[i]$ (with $j=0,...,i-1$)  before the element $S[i]$; if we fix the index $j$, than the longest subsequence ending in the two elements $S[j]$ and $S[i]$ has the length $X[j]+1$.\n",
    " All of these values $X[j]$ are already known, so we can directly compute $X[i]$ with:\n",
    " \n",
    " $X[i]=\\mathop{{max}\\vphantom{\\sim}}\\limits_{\\displaystyle _{\\mathbf j=0,...,i-1}}(1+X[j])$\n",
    " \n",
    " with $S[j]<S[i]$\n",
    " \n",
    " \n",
    "Now, combininig these two cases, we get the final result for $X[i]$:\n",
    "\n",
    "$X[i]=\\mathop{{max}\\vphantom{\\sim}}(1,\\mathop{{max}\\vphantom{\\sim}}\\limits_{\\displaystyle _{\\mathbf j=0,...,i-1}}(1+X[j]))$\n",
    "\n",
    "with $S[j]<S[i]$"
   ]
  }
 ],
 "metadata": {
  "kernelspec": {
   "display_name": "Python 3",
   "language": "python",
   "name": "python3"
  },
  "language_info": {
   "codemirror_mode": {
    "name": "ipython",
    "version": 3
   },
   "file_extension": ".py",
   "mimetype": "text/x-python",
   "name": "python",
   "nbconvert_exporter": "python",
   "pygments_lexer": "ipython3",
   "version": "3.8.3"
  }
 },
 "nbformat": 4,
 "nbformat_minor": 4
}
