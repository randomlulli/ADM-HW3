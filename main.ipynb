{
 "cells": [
  {
   "cell_type": "markdown",
   "metadata": {},
   "source": [
    "# Preprocessing"
   ]
  },
  {
   "cell_type": "code",
   "execution_count": 50,
   "metadata": {},
   "outputs": [],
   "source": [
    "from PyPDF2 import PdfFileReader\n",
    "import pandas as pd\n",
    "from tqdm import tqdm\n",
    "import csv\n",
    "from collections import defaultdict\n",
    "import numpy as np\n",
    "import matplotlib.pyplot as plt\n",
    "import textract\n",
    "\n",
    "import nltk\n",
    "from nltk.corpus import stopwords\n",
    "from nltk.stem.snowball import PorterStemmer\n",
    "from nltk.tokenize import RegexpTokenizer\n",
    "from nltk.stem import WordNetLemmatizer\n",
    "from nltk import pos_tag\n",
    "from nltk.tokenize import word_tokenize\n",
    "\n",
    "from sklearn.feature_extraction.text import TfidfVectorizer\n",
    "from sklearn.decomposition import TruncatedSVD\n",
    "from sklearn.feature_extraction.text import CountVectorizer\n",
    "import sklearn\n",
    "import sklearn.decomposition"
   ]
  },
  {
   "cell_type": "markdown",
   "metadata": {},
   "source": [
    "## Create dataset"
   ]
  },
  {
   "cell_type": "code",
   "execution_count": 16,
   "metadata": {},
   "outputs": [],
   "source": [
    "db = \"db.csv\"\n",
    "articles_path = \"/Users/antoniozappia/Desktop/Articles/\""
   ]
  },
  {
   "cell_type": "code",
   "execution_count": 17,
   "metadata": {},
   "outputs": [],
   "source": [
    "ds = pd.read_csv(db, sep=\",\", quotechar='\"', quoting=csv.QUOTE_ALL, header=None, names=[\"title\", \"text\"])"
   ]
  },
  {
   "cell_type": "code",
   "execution_count": 18,
   "metadata": {},
   "outputs": [
    {
     "data": {
      "text/html": [
       "<div>\n",
       "<style scoped>\n",
       "    .dataframe tbody tr th:only-of-type {\n",
       "        vertical-align: middle;\n",
       "    }\n",
       "\n",
       "    .dataframe tbody tr th {\n",
       "        vertical-align: top;\n",
       "    }\n",
       "\n",
       "    .dataframe thead th {\n",
       "        text-align: right;\n",
       "    }\n",
       "</style>\n",
       "<table border=\"1\" class=\"dataframe\">\n",
       "  <thead>\n",
       "    <tr style=\"text-align: right;\">\n",
       "      <th></th>\n",
       "      <th>title</th>\n",
       "      <th>text</th>\n",
       "    </tr>\n",
       "  </thead>\n",
       "  <tbody>\n",
       "    <tr>\n",
       "      <th>0</th>\n",
       "      <td>A Generic Model for Emotional AI in Real-Time ...</td>\n",
       "      <td>changetext</td>\n",
       "    </tr>\n",
       "    <tr>\n",
       "      <th>1</th>\n",
       "      <td>A Path Toward Explainable AI and Autonomous Ad...</td>\n",
       "      <td>changetext</td>\n",
       "    </tr>\n",
       "    <tr>\n",
       "      <th>2</th>\n",
       "      <td>A vulnerability analysis Theorising the impact...</td>\n",
       "      <td>changetext</td>\n",
       "    </tr>\n",
       "    <tr>\n",
       "      <th>3</th>\n",
       "      <td>An Intelligent Combination Assessing the Impac...</td>\n",
       "      <td>changetext</td>\n",
       "    </tr>\n",
       "    <tr>\n",
       "      <th>4</th>\n",
       "      <td>Artificial intelligence and the new forms of i...</td>\n",
       "      <td>changetext</td>\n",
       "    </tr>\n",
       "    <tr>\n",
       "      <th>5</th>\n",
       "      <td>Artificial intelligence approaches for modelin...</td>\n",
       "      <td>changetext</td>\n",
       "    </tr>\n",
       "    <tr>\n",
       "      <th>6</th>\n",
       "      <td>Artificial Intelligence in Neuroeducation The ...</td>\n",
       "      <td>changetext</td>\n",
       "    </tr>\n",
       "    <tr>\n",
       "      <th>7</th>\n",
       "      <td>Emotion Model for Artificial Intelligence and ...</td>\n",
       "      <td>changetext</td>\n",
       "    </tr>\n",
       "    <tr>\n",
       "      <th>8</th>\n",
       "      <td>Examining the Impact of Artificial Intelligenc...</td>\n",
       "      <td>changetext</td>\n",
       "    </tr>\n",
       "    <tr>\n",
       "      <th>9</th>\n",
       "      <td>Intelligent Conversational Agents in Mental He...</td>\n",
       "      <td>changetext</td>\n",
       "    </tr>\n",
       "    <tr>\n",
       "      <th>10</th>\n",
       "      <td>iSAM Personalizing an Artificial Intelligence ...</td>\n",
       "      <td>changetext</td>\n",
       "    </tr>\n",
       "    <tr>\n",
       "      <th>11</th>\n",
       "      <td>MODELLING OF TRAVEL BEHAVIOUR OF STUDENTS USIN...</td>\n",
       "      <td>changetext</td>\n",
       "    </tr>\n",
       "    <tr>\n",
       "      <th>12</th>\n",
       "      <td>OpenCrowd A Human-AI Collaborative Approach fo...</td>\n",
       "      <td>changetext</td>\n",
       "    </tr>\n",
       "    <tr>\n",
       "      <th>13</th>\n",
       "      <td>Research on emotional model of sports arena ba...</td>\n",
       "      <td>changetext</td>\n",
       "    </tr>\n",
       "    <tr>\n",
       "      <th>14</th>\n",
       "      <td>Research on information interaction interventi...</td>\n",
       "      <td>changetext</td>\n",
       "    </tr>\n",
       "    <tr>\n",
       "      <th>15</th>\n",
       "      <td>Sensor Information Fusion by Integrated AI to ...</td>\n",
       "      <td>changetext</td>\n",
       "    </tr>\n",
       "    <tr>\n",
       "      <th>16</th>\n",
       "      <td>Social and Emotion AI The Potential for Indust...</td>\n",
       "      <td>changetext</td>\n",
       "    </tr>\n",
       "    <tr>\n",
       "      <th>17</th>\n",
       "      <td>STRATEGIC PLANING OF AI RESEARCH THROUGH ANALY...</td>\n",
       "      <td>changetext</td>\n",
       "    </tr>\n",
       "    <tr>\n",
       "      <th>18</th>\n",
       "      <td>The impact of AI and robotics on physical, soc...</td>\n",
       "      <td>changetext</td>\n",
       "    </tr>\n",
       "    <tr>\n",
       "      <th>19</th>\n",
       "      <td>The Potential Social Impact of the Artificial ...</td>\n",
       "      <td>changetext</td>\n",
       "    </tr>\n",
       "    <tr>\n",
       "      <th>20</th>\n",
       "      <td>When expert recommendation contradicts peer op...</td>\n",
       "      <td>changetext</td>\n",
       "    </tr>\n",
       "  </tbody>\n",
       "</table>\n",
       "</div>"
      ],
      "text/plain": [
       "                                                title        text\n",
       "0   A Generic Model for Emotional AI in Real-Time ...  changetext\n",
       "1   A Path Toward Explainable AI and Autonomous Ad...  changetext\n",
       "2   A vulnerability analysis Theorising the impact...  changetext\n",
       "3   An Intelligent Combination Assessing the Impac...  changetext\n",
       "4   Artificial intelligence and the new forms of i...  changetext\n",
       "5   Artificial intelligence approaches for modelin...  changetext\n",
       "6   Artificial Intelligence in Neuroeducation The ...  changetext\n",
       "7   Emotion Model for Artificial Intelligence and ...  changetext\n",
       "8   Examining the Impact of Artificial Intelligenc...  changetext\n",
       "9   Intelligent Conversational Agents in Mental He...  changetext\n",
       "10  iSAM Personalizing an Artificial Intelligence ...  changetext\n",
       "11  MODELLING OF TRAVEL BEHAVIOUR OF STUDENTS USIN...  changetext\n",
       "12  OpenCrowd A Human-AI Collaborative Approach fo...  changetext\n",
       "13  Research on emotional model of sports arena ba...  changetext\n",
       "14  Research on information interaction interventi...  changetext\n",
       "15  Sensor Information Fusion by Integrated AI to ...  changetext\n",
       "16  Social and Emotion AI The Potential for Indust...  changetext\n",
       "17  STRATEGIC PLANING OF AI RESEARCH THROUGH ANALY...  changetext\n",
       "18  The impact of AI and robotics on physical, soc...  changetext\n",
       "19  The Potential Social Impact of the Artificial ...  changetext\n",
       "20  When expert recommendation contradicts peer op...  changetext"
      ]
     },
     "execution_count": 18,
     "metadata": {},
     "output_type": "execute_result"
    }
   ],
   "source": [
    "ds"
   ]
  },
  {
   "cell_type": "code",
   "execution_count": 19,
   "metadata": {},
   "outputs": [
    {
     "name": "stderr",
     "output_type": "stream",
     "text": [
      "100%|██████████| 21/21 [00:47<00:00,  2.28s/it]\n"
     ]
    }
   ],
   "source": [
    "l = []\n",
    "for i in tqdm(ds.index):\n",
    "    try:\n",
    "        text = textract.process(articles_path + ds.iloc[i].title + \".pdf\", method='pdfminer')\n",
    "        l.append(text)\n",
    "    except:\n",
    "        l.append(\"changetext\")\n",
    "ds[\"text\"] = l"
   ]
  },
  {
   "cell_type": "code",
   "execution_count": 20,
   "metadata": {},
   "outputs": [],
   "source": [
    "ds.drop((ds[ds[\"text\"]==\"changetext\"]).index, inplace=True)\n",
    "ds.reset_index(drop=True, inplace=True)\n",
    "ds.to_csv(\"/Users/antoniozappia/Desktop/new_db.csv\")"
   ]
  },
  {
   "cell_type": "markdown",
   "metadata": {},
   "source": [
    "## Improve NLP"
   ]
  },
  {
   "cell_type": "code",
   "execution_count": 135,
   "metadata": {},
   "outputs": [],
   "source": [
    "ds_path = \"new_db.csv\""
   ]
  },
  {
   "cell_type": "code",
   "execution_count": 136,
   "metadata": {},
   "outputs": [],
   "source": [
    "def clean_text(text):\n",
    "    txt = text.replace(\"\\n\", \" \")\n",
    "    lemmatizer = WordNetLemmatizer() #Lemmatizer \n",
    "    stop_words = set(stopwords.words(\"english\")) #Set of all stopwords in English\n",
    "    tokenizer = RegexpTokenizer(\"[a-zA-Z]+\")\n",
    "    words = tokenizer.tokenize(txt)\n",
    "    filtered_words = [] #New list for each rows\n",
    "    for word in words:\n",
    "        w = word.lower()\n",
    "        if w not in stop_words and word.isalpha():\n",
    "            word = PorterStemmer().stem(w)\n",
    "            filtered_words.append(lemmatizer.lemmatize(w,\"v\")) #Append all word with tag in possible tag. The word is defined with lemm. The word must not be present in the stopwords\n",
    "    return filtered_words #Join the list to string"
   ]
  },
  {
   "cell_type": "code",
   "execution_count": 137,
   "metadata": {},
   "outputs": [],
   "source": [
    "ds = pd.read_csv(ds_path)"
   ]
  },
  {
   "cell_type": "code",
   "execution_count": 138,
   "metadata": {},
   "outputs": [],
   "source": [
    "ds.drop([8], inplace=True)\n",
    "ds.reset_index(inplace=True, drop=True)"
   ]
  },
  {
   "cell_type": "code",
   "execution_count": 139,
   "metadata": {},
   "outputs": [
    {
     "data": {
      "text/html": [
       "<div>\n",
       "<style scoped>\n",
       "    .dataframe tbody tr th:only-of-type {\n",
       "        vertical-align: middle;\n",
       "    }\n",
       "\n",
       "    .dataframe tbody tr th {\n",
       "        vertical-align: top;\n",
       "    }\n",
       "\n",
       "    .dataframe thead th {\n",
       "        text-align: right;\n",
       "    }\n",
       "</style>\n",
       "<table border=\"1\" class=\"dataframe\">\n",
       "  <thead>\n",
       "    <tr style=\"text-align: right;\">\n",
       "      <th></th>\n",
       "      <th>Unnamed: 0</th>\n",
       "      <th>title</th>\n",
       "      <th>text</th>\n",
       "    </tr>\n",
       "  </thead>\n",
       "  <tbody>\n",
       "    <tr>\n",
       "      <th>0</th>\n",
       "      <td>0</td>\n",
       "      <td>A Generic Model for Emotional AI in Real-Time ...</td>\n",
       "      <td>b'See discussions, stats, and author profiles ...</td>\n",
       "    </tr>\n",
       "    <tr>\n",
       "      <th>1</th>\n",
       "      <td>1</td>\n",
       "      <td>A Path Toward Explainable AI and Autonomous Ad...</td>\n",
       "      <td>b'REVIEW\\npublished: 25 June 2020\\ndoi: 10.338...</td>\n",
       "    </tr>\n",
       "    <tr>\n",
       "      <th>2</th>\n",
       "      <td>2</td>\n",
       "      <td>A vulnerability analysis Theorising the impact...</td>\n",
       "      <td>b'computer law &amp; security review 38 (2020) 105...</td>\n",
       "    </tr>\n",
       "    <tr>\n",
       "      <th>3</th>\n",
       "      <td>3</td>\n",
       "      <td>An Intelligent Combination Assessing the Impac...</td>\n",
       "      <td>b'An Intelligent Combination: Assessing the Im...</td>\n",
       "    </tr>\n",
       "    <tr>\n",
       "      <th>4</th>\n",
       "      <td>4</td>\n",
       "      <td>Artificial intelligence approaches for modelin...</td>\n",
       "      <td>b'Artificial intelligence approaches for\\nmode...</td>\n",
       "    </tr>\n",
       "    <tr>\n",
       "      <th>5</th>\n",
       "      <td>5</td>\n",
       "      <td>Artificial Intelligence in Neuroeducation The ...</td>\n",
       "      <td>b'Artificial Intelligence in Neuroeducation: T...</td>\n",
       "    </tr>\n",
       "    <tr>\n",
       "      <th>6</th>\n",
       "      <td>6</td>\n",
       "      <td>Emotion Model for Artificial Intelligence and ...</td>\n",
       "      <td>b'Emotion Model for Artificial Intelligence an...</td>\n",
       "    </tr>\n",
       "    <tr>\n",
       "      <th>7</th>\n",
       "      <td>7</td>\n",
       "      <td>Examining the Impact of Artificial Intelligenc...</td>\n",
       "      <td>b'International Journal of Computational Intel...</td>\n",
       "    </tr>\n",
       "    <tr>\n",
       "      <th>8</th>\n",
       "      <td>9</td>\n",
       "      <td>iSAM Personalizing an Artificial Intelligence ...</td>\n",
       "      <td>b'See discussions, stats, and author profiles ...</td>\n",
       "    </tr>\n",
       "    <tr>\n",
       "      <th>9</th>\n",
       "      <td>10</td>\n",
       "      <td>MODELLING OF TRAVEL BEHAVIOUR OF STUDENTS USIN...</td>\n",
       "      <td>b'ARCHIVES OF TRANSPORT \\nVolume 51, Issue 3, ...</td>\n",
       "    </tr>\n",
       "    <tr>\n",
       "      <th>10</th>\n",
       "      <td>11</td>\n",
       "      <td>OpenCrowd A Human-AI Collaborative Approach fo...</td>\n",
       "      <td>b'OpenCrowd: A Human-AI Collaborative Approach...</td>\n",
       "    </tr>\n",
       "    <tr>\n",
       "      <th>11</th>\n",
       "      <td>12</td>\n",
       "      <td>Research on emotional model of sports arena ba...</td>\n",
       "      <td>b'Content courtesy of Springer Nature, terms o...</td>\n",
       "    </tr>\n",
       "    <tr>\n",
       "      <th>12</th>\n",
       "      <td>13</td>\n",
       "      <td>Research on information interaction interventi...</td>\n",
       "      <td>b\"2020 International Conference on Artificial ...</td>\n",
       "    </tr>\n",
       "    <tr>\n",
       "      <th>13</th>\n",
       "      <td>14</td>\n",
       "      <td>STRATEGIC PLANING OF AI RESEARCH THROUGH ANALY...</td>\n",
       "      <td>b'International Journal of Advances in Electro...</td>\n",
       "    </tr>\n",
       "    <tr>\n",
       "      <th>14</th>\n",
       "      <td>15</td>\n",
       "      <td>The Potential Social Impact of the Artificial ...</td>\n",
       "      <td>b' \\n\\nThe 2018 AAAI Spring Symposium Series\\n...</td>\n",
       "    </tr>\n",
       "    <tr>\n",
       "      <th>15</th>\n",
       "      <td>16</td>\n",
       "      <td>When expert recommendation contradicts peer op...</td>\n",
       "      <td>b'Contents lists available at ScienceDirect \\n...</td>\n",
       "    </tr>\n",
       "  </tbody>\n",
       "</table>\n",
       "</div>"
      ],
      "text/plain": [
       "    Unnamed: 0                                              title  \\\n",
       "0            0  A Generic Model for Emotional AI in Real-Time ...   \n",
       "1            1  A Path Toward Explainable AI and Autonomous Ad...   \n",
       "2            2  A vulnerability analysis Theorising the impact...   \n",
       "3            3  An Intelligent Combination Assessing the Impac...   \n",
       "4            4  Artificial intelligence approaches for modelin...   \n",
       "5            5  Artificial Intelligence in Neuroeducation The ...   \n",
       "6            6  Emotion Model for Artificial Intelligence and ...   \n",
       "7            7  Examining the Impact of Artificial Intelligenc...   \n",
       "8            9  iSAM Personalizing an Artificial Intelligence ...   \n",
       "9           10  MODELLING OF TRAVEL BEHAVIOUR OF STUDENTS USIN...   \n",
       "10          11  OpenCrowd A Human-AI Collaborative Approach fo...   \n",
       "11          12  Research on emotional model of sports arena ba...   \n",
       "12          13  Research on information interaction interventi...   \n",
       "13          14  STRATEGIC PLANING OF AI RESEARCH THROUGH ANALY...   \n",
       "14          15  The Potential Social Impact of the Artificial ...   \n",
       "15          16  When expert recommendation contradicts peer op...   \n",
       "\n",
       "                                                 text  \n",
       "0   b'See discussions, stats, and author profiles ...  \n",
       "1   b'REVIEW\\npublished: 25 June 2020\\ndoi: 10.338...  \n",
       "2   b'computer law & security review 38 (2020) 105...  \n",
       "3   b'An Intelligent Combination: Assessing the Im...  \n",
       "4   b'Artificial intelligence approaches for\\nmode...  \n",
       "5   b'Artificial Intelligence in Neuroeducation: T...  \n",
       "6   b'Emotion Model for Artificial Intelligence an...  \n",
       "7   b'International Journal of Computational Intel...  \n",
       "8   b'See discussions, stats, and author profiles ...  \n",
       "9   b'ARCHIVES OF TRANSPORT \\nVolume 51, Issue 3, ...  \n",
       "10  b'OpenCrowd: A Human-AI Collaborative Approach...  \n",
       "11  b'Content courtesy of Springer Nature, terms o...  \n",
       "12  b\"2020 International Conference on Artificial ...  \n",
       "13  b'International Journal of Advances in Electro...  \n",
       "14  b' \\n\\nThe 2018 AAAI Spring Symposium Series\\n...  \n",
       "15  b'Contents lists available at ScienceDirect \\n...  "
      ]
     },
     "execution_count": 139,
     "metadata": {},
     "output_type": "execute_result"
    }
   ],
   "source": [
    "ds"
   ]
  },
  {
   "cell_type": "code",
   "execution_count": 140,
   "metadata": {},
   "outputs": [],
   "source": [
    "# open dataset and use the function\n",
    "del ds[\"Unnamed: 0\"]"
   ]
  },
  {
   "cell_type": "code",
   "execution_count": 147,
   "metadata": {},
   "outputs": [],
   "source": [
    "ds['new_text'] = ds['text'].apply(lambda x: x.replace('\\n', ''))"
   ]
  },
  {
   "cell_type": "code",
   "execution_count": 145,
   "metadata": {},
   "outputs": [],
   "source": [
    "ds[\"token\"] = [clean_text(t[1:]) for t in ds.text]"
   ]
  },
  {
   "cell_type": "code",
   "execution_count": 146,
   "metadata": {},
   "outputs": [
    {
     "data": {
      "text/html": [
       "<div>\n",
       "<style scoped>\n",
       "    .dataframe tbody tr th:only-of-type {\n",
       "        vertical-align: middle;\n",
       "    }\n",
       "\n",
       "    .dataframe tbody tr th {\n",
       "        vertical-align: top;\n",
       "    }\n",
       "\n",
       "    .dataframe thead th {\n",
       "        text-align: right;\n",
       "    }\n",
       "</style>\n",
       "<table border=\"1\" class=\"dataframe\">\n",
       "  <thead>\n",
       "    <tr style=\"text-align: right;\">\n",
       "      <th></th>\n",
       "      <th>title</th>\n",
       "      <th>text</th>\n",
       "      <th>new_text</th>\n",
       "      <th>token</th>\n",
       "    </tr>\n",
       "  </thead>\n",
       "  <tbody>\n",
       "    <tr>\n",
       "      <th>0</th>\n",
       "      <td>A Generic Model for Emotional AI in Real-Time ...</td>\n",
       "      <td>b'See discussions, stats, and author profiles ...</td>\n",
       "      <td>b'See discussions, stats, and author profiles ...</td>\n",
       "      <td>[see, discussions, stats, author, profile, pub...</td>\n",
       "    </tr>\n",
       "    <tr>\n",
       "      <th>1</th>\n",
       "      <td>A Path Toward Explainable AI and Autonomous Ad...</td>\n",
       "      <td>b'REVIEW\\npublished: 25 June 2020\\ndoi: 10.338...</td>\n",
       "      <td>b'REVIEW\\npublished: 25 June 2020\\ndoi: 10.338...</td>\n",
       "      <td>[review, npublished, june, ndoi, fnbot, n, na,...</td>\n",
       "    </tr>\n",
       "    <tr>\n",
       "      <th>2</th>\n",
       "      <td>A vulnerability analysis Theorising the impact...</td>\n",
       "      <td>b'computer law &amp; security review 38 (2020) 105...</td>\n",
       "      <td>b'computer law &amp; security review 38 (2020) 105...</td>\n",
       "      <td>[computer, law, security, review, n, navailabl...</td>\n",
       "    </tr>\n",
       "    <tr>\n",
       "      <th>3</th>\n",
       "      <td>An Intelligent Combination Assessing the Impac...</td>\n",
       "      <td>b'An Intelligent Combination: Assessing the Im...</td>\n",
       "      <td>b'An Intelligent Combination: Assessing the Im...</td>\n",
       "      <td>[intelligent, combination, assess, impact, nha...</td>\n",
       "    </tr>\n",
       "    <tr>\n",
       "      <th>4</th>\n",
       "      <td>Artificial intelligence approaches for modelin...</td>\n",
       "      <td>b'Artificial intelligence approaches for\\nmode...</td>\n",
       "      <td>b'Artificial intelligence approaches for\\nmode...</td>\n",
       "      <td>[artificial, intelligence, approach, nmodeling...</td>\n",
       "    </tr>\n",
       "    <tr>\n",
       "      <th>5</th>\n",
       "      <td>Artificial Intelligence in Neuroeducation The ...</td>\n",
       "      <td>b'Artificial Intelligence in Neuroeducation: T...</td>\n",
       "      <td>b'Artificial Intelligence in Neuroeducation: T...</td>\n",
       "      <td>[artificial, intelligence, neuroeducation, inf...</td>\n",
       "    </tr>\n",
       "    <tr>\n",
       "      <th>6</th>\n",
       "      <td>Emotion Model for Artificial Intelligence and ...</td>\n",
       "      <td>b'Emotion Model for Artificial Intelligence an...</td>\n",
       "      <td>b'Emotion Model for Artificial Intelligence an...</td>\n",
       "      <td>[emotion, model, artificial, intelligence, n, ...</td>\n",
       "    </tr>\n",
       "    <tr>\n",
       "      <th>7</th>\n",
       "      <td>Examining the Impact of Artificial Intelligenc...</td>\n",
       "      <td>b'International Journal of Computational Intel...</td>\n",
       "      <td>b'International Journal of Computational Intel...</td>\n",
       "      <td>[international, journal, computational, intell...</td>\n",
       "    </tr>\n",
       "    <tr>\n",
       "      <th>8</th>\n",
       "      <td>iSAM Personalizing an Artificial Intelligence ...</td>\n",
       "      <td>b'See discussions, stats, and author profiles ...</td>\n",
       "      <td>b'See discussions, stats, and author profiles ...</td>\n",
       "      <td>[see, discussions, stats, author, profile, pub...</td>\n",
       "    </tr>\n",
       "    <tr>\n",
       "      <th>9</th>\n",
       "      <td>MODELLING OF TRAVEL BEHAVIOUR OF STUDENTS USIN...</td>\n",
       "      <td>b'ARCHIVES OF TRANSPORT \\nVolume 51, Issue 3, ...</td>\n",
       "      <td>b'ARCHIVES OF TRANSPORT \\nVolume 51, Issue 3, ...</td>\n",
       "      <td>[archive, transport, nvolume, issue, n, n, nis...</td>\n",
       "    </tr>\n",
       "    <tr>\n",
       "      <th>10</th>\n",
       "      <td>OpenCrowd A Human-AI Collaborative Approach fo...</td>\n",
       "      <td>b'OpenCrowd: A Human-AI Collaborative Approach...</td>\n",
       "      <td>b'OpenCrowd: A Human-AI Collaborative Approach...</td>\n",
       "      <td>[opencrowd, human, ai, collaborative, approach...</td>\n",
       "    </tr>\n",
       "    <tr>\n",
       "      <th>11</th>\n",
       "      <td>Research on emotional model of sports arena ba...</td>\n",
       "      <td>b'Content courtesy of Springer Nature, terms o...</td>\n",
       "      <td>b'Content courtesy of Springer Nature, terms o...</td>\n",
       "      <td>[content, courtesy, springer, nature, term, us...</td>\n",
       "    </tr>\n",
       "    <tr>\n",
       "      <th>12</th>\n",
       "      <td>Research on information interaction interventi...</td>\n",
       "      <td>b\"2020 International Conference on Artificial ...</td>\n",
       "      <td>b\"2020 International Conference on Artificial ...</td>\n",
       "      <td>[international, conference, artificial, intell...</td>\n",
       "    </tr>\n",
       "    <tr>\n",
       "      <th>13</th>\n",
       "      <td>STRATEGIC PLANING OF AI RESEARCH THROUGH ANALY...</td>\n",
       "      <td>b'International Journal of Advances in Electro...</td>\n",
       "      <td>b'International Journal of Advances in Electro...</td>\n",
       "      <td>[international, journal, advance, electronics,...</td>\n",
       "    </tr>\n",
       "    <tr>\n",
       "      <th>14</th>\n",
       "      <td>The Potential Social Impact of the Artificial ...</td>\n",
       "      <td>b' \\n\\nThe 2018 AAAI Spring Symposium Series\\n...</td>\n",
       "      <td>b' \\n\\nThe 2018 AAAI Spring Symposium Series\\n...</td>\n",
       "      <td>[n, nthe, aaai, spring, symposium, series, n, ...</td>\n",
       "    </tr>\n",
       "    <tr>\n",
       "      <th>15</th>\n",
       "      <td>When expert recommendation contradicts peer op...</td>\n",
       "      <td>b'Contents lists available at ScienceDirect \\n...</td>\n",
       "      <td>b'Contents lists available at ScienceDirect \\n...</td>\n",
       "      <td>[content, list, available, sciencedirect, n, n...</td>\n",
       "    </tr>\n",
       "  </tbody>\n",
       "</table>\n",
       "</div>"
      ],
      "text/plain": [
       "                                                title  \\\n",
       "0   A Generic Model for Emotional AI in Real-Time ...   \n",
       "1   A Path Toward Explainable AI and Autonomous Ad...   \n",
       "2   A vulnerability analysis Theorising the impact...   \n",
       "3   An Intelligent Combination Assessing the Impac...   \n",
       "4   Artificial intelligence approaches for modelin...   \n",
       "5   Artificial Intelligence in Neuroeducation The ...   \n",
       "6   Emotion Model for Artificial Intelligence and ...   \n",
       "7   Examining the Impact of Artificial Intelligenc...   \n",
       "8   iSAM Personalizing an Artificial Intelligence ...   \n",
       "9   MODELLING OF TRAVEL BEHAVIOUR OF STUDENTS USIN...   \n",
       "10  OpenCrowd A Human-AI Collaborative Approach fo...   \n",
       "11  Research on emotional model of sports arena ba...   \n",
       "12  Research on information interaction interventi...   \n",
       "13  STRATEGIC PLANING OF AI RESEARCH THROUGH ANALY...   \n",
       "14  The Potential Social Impact of the Artificial ...   \n",
       "15  When expert recommendation contradicts peer op...   \n",
       "\n",
       "                                                 text  \\\n",
       "0   b'See discussions, stats, and author profiles ...   \n",
       "1   b'REVIEW\\npublished: 25 June 2020\\ndoi: 10.338...   \n",
       "2   b'computer law & security review 38 (2020) 105...   \n",
       "3   b'An Intelligent Combination: Assessing the Im...   \n",
       "4   b'Artificial intelligence approaches for\\nmode...   \n",
       "5   b'Artificial Intelligence in Neuroeducation: T...   \n",
       "6   b'Emotion Model for Artificial Intelligence an...   \n",
       "7   b'International Journal of Computational Intel...   \n",
       "8   b'See discussions, stats, and author profiles ...   \n",
       "9   b'ARCHIVES OF TRANSPORT \\nVolume 51, Issue 3, ...   \n",
       "10  b'OpenCrowd: A Human-AI Collaborative Approach...   \n",
       "11  b'Content courtesy of Springer Nature, terms o...   \n",
       "12  b\"2020 International Conference on Artificial ...   \n",
       "13  b'International Journal of Advances in Electro...   \n",
       "14  b' \\n\\nThe 2018 AAAI Spring Symposium Series\\n...   \n",
       "15  b'Contents lists available at ScienceDirect \\n...   \n",
       "\n",
       "                                             new_text  \\\n",
       "0   b'See discussions, stats, and author profiles ...   \n",
       "1   b'REVIEW\\npublished: 25 June 2020\\ndoi: 10.338...   \n",
       "2   b'computer law & security review 38 (2020) 105...   \n",
       "3   b'An Intelligent Combination: Assessing the Im...   \n",
       "4   b'Artificial intelligence approaches for\\nmode...   \n",
       "5   b'Artificial Intelligence in Neuroeducation: T...   \n",
       "6   b'Emotion Model for Artificial Intelligence an...   \n",
       "7   b'International Journal of Computational Intel...   \n",
       "8   b'See discussions, stats, and author profiles ...   \n",
       "9   b'ARCHIVES OF TRANSPORT \\nVolume 51, Issue 3, ...   \n",
       "10  b'OpenCrowd: A Human-AI Collaborative Approach...   \n",
       "11  b'Content courtesy of Springer Nature, terms o...   \n",
       "12  b\"2020 International Conference on Artificial ...   \n",
       "13  b'International Journal of Advances in Electro...   \n",
       "14  b' \\n\\nThe 2018 AAAI Spring Symposium Series\\n...   \n",
       "15  b'Contents lists available at ScienceDirect \\n...   \n",
       "\n",
       "                                                token  \n",
       "0   [see, discussions, stats, author, profile, pub...  \n",
       "1   [review, npublished, june, ndoi, fnbot, n, na,...  \n",
       "2   [computer, law, security, review, n, navailabl...  \n",
       "3   [intelligent, combination, assess, impact, nha...  \n",
       "4   [artificial, intelligence, approach, nmodeling...  \n",
       "5   [artificial, intelligence, neuroeducation, inf...  \n",
       "6   [emotion, model, artificial, intelligence, n, ...  \n",
       "7   [international, journal, computational, intell...  \n",
       "8   [see, discussions, stats, author, profile, pub...  \n",
       "9   [archive, transport, nvolume, issue, n, n, nis...  \n",
       "10  [opencrowd, human, ai, collaborative, approach...  \n",
       "11  [content, courtesy, springer, nature, term, us...  \n",
       "12  [international, conference, artificial, intell...  \n",
       "13  [international, journal, advance, electronics,...  \n",
       "14  [n, nthe, aaai, spring, symposium, series, n, ...  \n",
       "15  [content, list, available, sciencedirect, n, n...  "
      ]
     },
     "execution_count": 146,
     "metadata": {},
     "output_type": "execute_result"
    }
   ],
   "source": [
    "ds"
   ]
  },
  {
   "cell_type": "code",
   "execution_count": 45,
   "metadata": {},
   "outputs": [],
   "source": [
    "all_text = []\n",
    "for i in range(len(ds)):\n",
    "    all_text += ds[\"token\"].iloc[i]"
   ]
  },
  {
   "cell_type": "code",
   "execution_count": 47,
   "metadata": {},
   "outputs": [],
   "source": [
    "#array of text is vectorized on unique word (words are counted)\n",
    "vectorizer = CountVectorizer()\n",
    "X = vectorizer.fit_transform(all_text)"
   ]
  },
  {
   "cell_type": "code",
   "execution_count": 48,
   "metadata": {},
   "outputs": [],
   "source": [
    "#From count matrix is computed tfidf value for each word and each product\n",
    "tfidf = sklearn.feature_extraction.text.TfidfTransformer(norm='l2', use_idf=True, smooth_idf=True, sublinear_tf=False)\n",
    "Z = tfidf.fit_transform(X)"
   ]
  },
  {
   "cell_type": "code",
   "execution_count": 51,
   "metadata": {},
   "outputs": [],
   "source": [
    "# the vector of label word for each column in the matrix\n",
    "feature_names = vectorizer.get_feature_names()"
   ]
  },
  {
   "cell_type": "code",
   "execution_count": 52,
   "metadata": {},
   "outputs": [],
   "source": [
    "#Dimensionality reduction trough svd (Singular Value Decomposition)\n",
    "svd = sklearn.decomposition.TruncatedSVD(n_components=1000, algorithm='randomized', n_iter=5, random_state=None, tol=0.0)\n",
    "Y = svd.fit_transform(Z)"
   ]
  },
  {
   "cell_type": "code",
   "execution_count": 54,
   "metadata": {},
   "outputs": [
    {
     "data": {
      "image/png": "[encoded data removed]",
      "text/plain": [
       "<Figure size 720x576 with 1 Axes>"
      ]
     },
     "metadata": {
      "needs_background": "light"
     },
     "output_type": "display_data"
    }
   ],
   "source": [
    "percentage_var_explained = svd.explained_variance_ / np.sum(svd.explained_variance_);\n",
    "cum_var_explained = np.cumsum(percentage_var_explained)\n",
    "\n",
    "plt.figure(figsize=(10, 8))\n",
    "plt.clf()\n",
    "plt.plot(cum_var_explained, linewidth=2)\n",
    "plt.axis('tight')\n",
    "plt.grid()\n",
    "plt.xlabel('n_components')\n",
    "plt.ylabel('Cumulative_explained_variance')\n",
    "plt.show()"
   ]
  },
  {
   "cell_type": "code",
   "execution_count": 58,
   "metadata": {},
   "outputs": [],
   "source": [
    "svd = sklearn.decomposition.TruncatedSVD(n_components=600, algorithm='randomized', n_iter=5, random_state=None, tol=0.0)\n",
    "Y = svd.fit_transform(Z)"
   ]
  },
  {
   "cell_type": "code",
   "execution_count": 59,
   "metadata": {},
   "outputs": [
    {
     "data": {
      "text/plain": [
       "600"
      ]
     },
     "execution_count": 59,
     "metadata": {},
     "output_type": "execute_result"
    }
   ],
   "source": [
    "features = [feature_names[i] for i in svd.components_[0].argsort()[::-1]]\n",
    "best_features = features[:600]\n",
    "len(best_features)"
   ]
  },
  {
   "cell_type": "code",
   "execution_count": 60,
   "metadata": {},
   "outputs": [
    {
     "data": {
      "text/plain": [
       "['cid',\n",
       " 'model',\n",
       " 'social',\n",
       " 'human',\n",
       " 'represent',\n",
       " 'nsystem',\n",
       " 'ed',\n",
       " 'larg',\n",
       " 'element',\n",
       " 'nintellig',\n",
       " 'visual',\n",
       " 'associ',\n",
       " 'nwith',\n",
       " 'number',\n",
       " 'question',\n",
       " 'aggreg',\n",
       " 'becom',\n",
       " 'saudi',\n",
       " 'end',\n",
       " 'nthi',\n",
       " 'requir',\n",
       " 'acm',\n",
       " 'combin',\n",
       " 'spatial',\n",
       " 'improv',\n",
       " 'abil',\n",
       " 'rule',\n",
       " 'direct',\n",
       " 'con',\n",
       " 'infer',\n",
       " 'share',\n",
       " 'implement',\n",
       " 'law',\n",
       " 'challeng',\n",
       " 'product',\n",
       " 'back',\n",
       " 'proceed',\n",
       " 'express',\n",
       " 'psycholog',\n",
       " 'ntion',\n",
       " 'context',\n",
       " 'role',\n",
       " 'success',\n",
       " 'set',\n",
       " 'vulner',\n",
       " 'advanc',\n",
       " 'depend',\n",
       " 'cell',\n",
       " 'vigil',\n",
       " 'take']"
      ]
     },
     "execution_count": 60,
     "metadata": {},
     "output_type": "execute_result"
    }
   ],
   "source": [
    "#best feature are most weighting word in svd truncated matrix\n",
    "best_features[:50]"
   ]
  },
  {
   "cell_type": "markdown",
   "metadata": {},
   "source": [
    "#### KMeans"
   ]
  },
  {
   "cell_type": "code",
   "execution_count": 37,
   "metadata": {},
   "outputs": [
    {
     "data": {
      "text/plain": [
       "(16, 9584)"
      ]
     },
     "execution_count": 37,
     "metadata": {},
     "output_type": "execute_result"
    }
   ],
   "source": [
    "vectorizer = TfidfVectorizer()\n",
    "X = vectorizer.fit_transform([\" \".join(x) for x in ds.token])\n",
    "X.shape"
   ]
  },
  {
   "cell_type": "code",
   "execution_count": 38,
   "metadata": {},
   "outputs": [
    {
     "data": {
      "image/png": "[encoded data removed]",
      "text/plain": [
       "<Figure size 720x576 with 1 Axes>"
      ]
     },
     "metadata": {
      "needs_background": "light"
     },
     "output_type": "display_data"
    }
   ],
   "source": [
    "svd = TruncatedSVD(n_components = 9500)\n",
    "svd_800 = svd.fit_transform(X)\n",
    "\n",
    "percentage_var_explained = svd.explained_variance_ / np.sum(svd.explained_variance_);\n",
    "cum_var_explained = np.cumsum(percentage_var_explained)\n",
    "\n",
    "plt.figure(figsize=(10, 8))\n",
    "plt.clf()\n",
    "plt.plot(cum_var_explained, linewidth=2)\n",
    "plt.axis('tight')\n",
    "plt.grid()\n",
    "plt.xlabel('n_components')\n",
    "plt.ylabel('Cumulative_explained_variance')\n",
    "plt.show()"
   ]
  },
  {
   "cell_type": "code",
   "execution_count": 44,
   "metadata": {},
   "outputs": [],
   "source": [
    "svd = TruncatedSVD(n_components = 9)\n",
    "svd_9 = svd.fit_transform(X)"
   ]
  },
  {
   "cell_type": "code",
   "execution_count": 45,
   "metadata": {},
   "outputs": [],
   "source": [
    "def elbow_method(X, l, plot_result = False):\n",
    "    elbow = {} #Create empty dictionary\n",
    "    for k in tqdm(l): #For loop for each element in list l\n",
    "        elbow_model = KMeans(n_clusters=k) #KMeans algorithm from scikit-learn with number cluster = K\n",
    "        elbow_model.fit_predict(X) #Fit and predict respect matrix X obtained from SVD Method\n",
    "        elbow[k] = elbow_model.inertia_ #Save in dictionary key = k and value for this key equal to inertia\n",
    "    return elbow"
   ]
  },
  {
   "cell_type": "code",
   "execution_count": 46,
   "metadata": {},
   "outputs": [
    {
     "name": "stderr",
     "output_type": "stream",
     "text": [
      "100%|██████████| 16/16 [00:00<00:00, 59.12it/s]\n"
     ]
    }
   ],
   "source": [
    "from sklearn.cluster import KMeans\n",
    "elbow = {}\n",
    "for k in tqdm(range(1, 17)):\n",
    "    elbow_model = KMeans(n_clusters=k)\n",
    "    elbow_model.fit_predict(svd_9)\n",
    "    elbow[k] = elbow_model.inertia_"
   ]
  },
  {
   "cell_type": "code",
   "execution_count": 47,
   "metadata": {},
   "outputs": [
    {
     "data": {
      "text/plain": [
       "[<matplotlib.lines.Line2D at 0x7fa5c0015af0>]"
      ]
     },
     "execution_count": 47,
     "metadata": {},
     "output_type": "execute_result"
    },
    {
     "data": {
      "image/png": "[encoded data removed]",
      "text/plain": [
       "<Figure size 432x288 with 1 Axes>"
      ]
     },
     "metadata": {
      "needs_background": "light"
     },
     "output_type": "display_data"
    }
   ],
   "source": [
    "plt.plot(list(elbow.keys()), list(elbow.values()))"
   ]
  },
  {
   "cell_type": "code",
   "execution_count": 50,
   "metadata": {},
   "outputs": [
    {
     "data": {
      "text/plain": [
       "3"
      ]
     },
     "execution_count": 50,
     "metadata": {},
     "output_type": "execute_result"
    }
   ],
   "source": [
    "from kneed import  KneeLocator\n",
    "kl = KneeLocator(range(1,11), list(elbow.values())[:10], curve=\"convex\", direction=\"decreasing\")\n",
    "kl.knee"
   ]
  },
  {
   "cell_type": "code",
   "execution_count": 51,
   "metadata": {},
   "outputs": [
    {
     "data": {
      "text/plain": [
       "<matplotlib.collections.LineCollection at 0x7fa5c003a8e0>"
      ]
     },
     "execution_count": 51,
     "metadata": {},
     "output_type": "execute_result"
    },
    {
     "data": {
      "image/png": "[encoded data removed]",
      "text/plain": [
       "<Figure size 432x288 with 1 Axes>"
      ]
     },
     "metadata": {
      "needs_background": "light"
     },
     "output_type": "display_data"
    }
   ],
   "source": [
    "plt.plot(list(elbow.keys()), list(elbow.values()))\n",
    "plt.vlines(kl.knee, plt.ylim()[0], plt.ylim()[1], linestyles='dashed')"
   ]
  },
  {
   "cell_type": "code",
   "execution_count": null,
   "metadata": {},
   "outputs": [],
   "source": []
  }
 ],
 "metadata": {
  "kernelspec": {
   "display_name": "Python 3",
   "language": "python",
   "name": "python3"
  },
  "language_info": {
   "codemirror_mode": {
    "name": "ipython",
    "version": 3
   },
   "file_extension": ".py",
   "mimetype": "text/x-python",
   "name": "python",
   "nbconvert_exporter": "python",
   "pygments_lexer": "ipython3",
   "version": "3.8.3"
  }
 },
 "nbformat": 4,
 "nbformat_minor": 4
}
