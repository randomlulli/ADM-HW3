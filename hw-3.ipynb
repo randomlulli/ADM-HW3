{
 "cells": [
  {
   "cell_type": "code",
   "execution_count": 1,
   "metadata": {},
   "outputs": [],
   "source": [
    "from pathlib import Path\n",
    "from bs4 import BeautifulSoup\n",
    "import requests\n",
    "import csv \n",
    "import re\n",
    "from langdetect import detect"
   ]
  },
  {
   "cell_type": "code",
   "execution_count": 14,
   "metadata": {},
   "outputs": [],
   "source": [
    "f = open(\"homework.txt\", \"w\")\n",
    "\n",
    "for i in range(1,301):\n",
    "    page = requests.get(\"https://www.goodreads.com/list/show/1.Best_Books_Ever?page=\" + str(i))\n",
    "    soup = BeautifulSoup(page.content, features=\"lxml\")\n",
    "    links = soup.find_all('a', itemprop='url', class_='bookTitle')\n",
    "    for link in links:\n",
    "        fullLink = link.get('href')\n",
    "        f.write('https://www.goodreads.com' + fullLink + '\\n')\n",
    "f.close()"
   ]
  },
  {
   "cell_type": "code",
   "execution_count": null,
   "metadata": {},
   "outputs": [],
   "source": [
    "path = './storage/'\n",
    "\n",
    "\n",
    "for i in range(1, 29701):\n",
    "    \n",
    "    folderName = \"folder-\" + str(i) + \"/\"\n",
    "    fileName = \"article_\" + str(i) + \".html\"\n",
    "    \n",
    "    f = open(\"homework3.txt\", \"r\")\n",
    "    url = f.readlines()[i-1]\n",
    "    \n",
    "    Path(path + folderName).mkdir(parents=True, exist_ok=True)\n",
    "\n",
    "    page = requests.get(url)\n",
    "    code = str(page.text)\n",
    "\n",
    "    with open(path + folderName + fileName, \"w\", encoding=\"utf-8\") as z:\n",
    "        z.write(code)\n",
    "\n",
    "    z.close()\n",
    "    f.close()"
   ]
  },
  {
   "cell_type": "code",
   "execution_count": 5,
   "metadata": {},
   "outputs": [
    {
     "name": "stdout",
     "output_type": "stream",
     "text": [
      "This book is not in english: 9932\n"
     ]
    }
   ],
   "source": [
    "data = ['bookTitle', 'bookSeries', 'bookAuthors', 'ratingValue', \"ratingCount\",\\\n",
    "        \"reviewCount\", \"plot\", \"numberOfPages\", \"publishingDate\", \"characters\", \"setting\", \"url\"]\n",
    "\n",
    "personalPath = \"C:/Users/giogi/Data Science/Algorithmic Methods of Data Mining/storage/folder-\"\n",
    "\n",
    "for i in range(9901, 9934): #9901\n",
    "    with open(personalPath + str(i) + \"/article_\" + str(i) + \".html\", 'rb') as html: \n",
    "        soup = BeautifulSoup(html,\"html.parser\")\n",
    "    #plot = soup.find('div',id='description').text.strip()  \n",
    "    try:\n",
    "        plot = soup.find('div',id='description').text.strip()\n",
    "        if detect(plot)=='en':\n",
    "            lista=[]\n",
    "\n",
    "            #title\n",
    "            try:\n",
    "                lista.append(soup.find('h1').text.strip())\n",
    "            except:\n",
    "                lista.append('')\n",
    "\n",
    "                #bookseries\n",
    "            try:\n",
    "                lista.append(soup.find('h2',id='bookSeries').text.strip())\n",
    "            except:\n",
    "                lista.append('')\n",
    "\n",
    "                #author name\n",
    "            try:\n",
    "                lista.append(soup.find('a',class_='authorName').text.strip())\n",
    "            except:\n",
    "                lista.append('')\n",
    "\n",
    "                #rating value\n",
    "            try:\n",
    "                lista.append(soup.find('span', itemprop='ratingValue').text.strip())\n",
    "            except:\n",
    "                lista.append('')\n",
    "\n",
    "                #ratingCount\n",
    "            try:\n",
    "                lista.append(soup.find_all('a',class_='gr-hyperlink',href='#other_reviews')[0]\\\n",
    "                             .text.strip().replace('\\r', '').replace('\\n', '').split()[0])\n",
    "            except:\n",
    "                lista.append('')\n",
    "\n",
    "                #reviewCount\n",
    "            try:\n",
    "                lista.append(soup.find_all('a',class_='gr-hyperlink',href='#other_reviews')[1]\\\n",
    "                             .text.strip().replace('\\r', '').replace('\\n', '').split()[0])\n",
    "            except:\n",
    "                lista.append('')\n",
    "\n",
    "                #plot\n",
    "            try:\n",
    "                if plot[-7:] == '...more':\n",
    "                    lista.append(soup.find('div',id='description').contents[3].text)\n",
    "                else:\n",
    "                    lista.append(plot)\n",
    "            except:\n",
    "                lista.append('')\n",
    "\n",
    "                #number of pages\n",
    "            try:\n",
    "                lista.append(soup.find('span', itemprop='numberOfPages').text.strip().split()[0])\n",
    "            except:\n",
    "                lista.append('')\n",
    "\n",
    "                #Publishing Date\n",
    "            try:\n",
    "                a=soup.find_all('div', class_='row')[1].text\n",
    "                match_obj = re.split('Published', re.split('by', a)[0])[1]\n",
    "                lista.append(match_obj.strip())\n",
    "            except:\n",
    "                lista.append('')\n",
    "\n",
    "                #characters\n",
    "            try:\n",
    "                l1=[]\n",
    "                for d in soup.find_all('a',href=re.compile(r'/characters/*')):\n",
    "                    l1.append(d.text)\n",
    "                    s1=\",\".join(l1)\n",
    "                lista.append(s1)\n",
    "            except:\n",
    "                lista.append('')\n",
    "\n",
    "                #setting\n",
    "            try:\n",
    "                l2=[]\n",
    "                for e in soup.find_all('a',href=re.compile(r'/places/*')):\n",
    "                    l2.append(e.text)\n",
    "                    s2=\",\".join(l2)\n",
    "                lista.append(s2)\n",
    "            except:\n",
    "                lista.append('')\n",
    "\n",
    "                #URL\n",
    "            lista.append(soup.find('link')['href'].strip())\n",
    "\n",
    "            path = personalPath + str(i) + '/article_' + str(i)+ '.tsv'\n",
    "\n",
    "            with open(path, 'w', newline='',encoding=\"utf-8\") as f_output:\n",
    "                tsv_output = csv.writer(f_output, delimiter='\\t')\n",
    "                tsv_output.writerow(data)\n",
    "                tsv_output.writerow(lista)\n",
    "                f_output.close()\n",
    "        \n",
    "        else:\n",
    "            print('This book is not in english: '+ str(i))\n",
    "            \n",
    "    except:\n",
    "        print('Missing plot for book: '+ str(i))"
   ]
  },
  {
   "cell_type": "code",
   "execution_count": 2,
   "metadata": {},
   "outputs": [
    {
     "name": "stderr",
     "output_type": "stream",
     "text": [
      "[nltk_data] Downloading package stopwords to\n",
      "[nltk_data]     C:\\Users\\giogi\\AppData\\Roaming\\nltk_data...\n",
      "[nltk_data]   Package stopwords is already up-to-date!\n"
     ]
    }
   ],
   "source": [
    "import nltk\n",
    "import string\n",
    "from nltk.corpus import stopwords\n",
    "nltk.download('stopwords')\n",
    "from nltk.tokenize import word_tokenize\n",
    "from nltk.stem import PorterStemmer \n",
    "from nltk.tokenize import RegexpTokenizer"
   ]
  },
  {
   "cell_type": "code",
   "execution_count": 54,
   "metadata": {},
   "outputs": [],
   "source": [
    "def generateTermId(word):\n",
    "    term_id = ''\n",
    "    for c in word:\n",
    "        term_id += str(string.ascii_lowercase.index(c.lower()))\n",
    "    \n",
    "    return int(term_id)"
   ]
  },
  {
   "cell_type": "code",
   "execution_count": 55,
   "metadata": {},
   "outputs": [],
   "source": [
    "# As suggested by the homework, we should create a file with all the following data. \n",
    "# In my opinion, better to create two files: one for the vocabulary (voc), and one for the database (diz)\n",
    "\n",
    "books=open(\"C:/Users/giogi/Data Science/Algorithmic Methods of Data Mining/books.tsv\", 'r')    # TO BE MODIFIED\n",
    "l=books.readlines()\n",
    "i=1\n",
    "ps = PorterStemmer() \n",
    "l1=[]\n",
    "\n",
    "diz={}\n",
    "voc = {}\n",
    "\n",
    "for line in l:\n",
    "    line1=line.split('\\t')\n",
    "    tokenizer = RegexpTokenizer(r\"[a-zA-Z]+\")\n",
    "    text_tokens = tokenizer.tokenize(line1[6])\n",
    "\n",
    "    for word in set(text_tokens):\n",
    "        if not word in stopwords.words():\n",
    "            a = ps.stem(word.lower())\n",
    "            \n",
    "            if a.isalpha():\n",
    "                term_id = generateTermId(a)\n",
    "                if a not in voc:\n",
    "                    voc[a] = term_id\n",
    "                if term_id not in diz:\n",
    "                    diz[term_id] = [i]\n",
    "                else:\n",
    "                    if i not in diz[term_id]:\n",
    "                        diz[term_id].append(i)\n",
    "\n",
    "    i+=1\n",
    "\n",
    "    if i==10:            # TO BE REMOVED\n",
    "        break            # TO BE REMOVED"
   ]
  },
  {
   "cell_type": "code",
   "execution_count": 56,
   "metadata": {},
   "outputs": [],
   "source": [
    "def searchEngine1(voc, diz):\n",
    "    \n",
    "    def getIds(keywords):\n",
    "        term_ids = []\n",
    "        for word in keywords:\n",
    "            try:\n",
    "                term_ids.append(voc[word])\n",
    "            except:\n",
    "                pass\n",
    "\n",
    "        return term_ids\n",
    "    \n",
    "    def getBooks(term_ids):\n",
    "        books = []\n",
    "        for ids in term_ids:\n",
    "            books.append(ids)\n",
    "            \n",
    "        return set(books)\n",
    "                \n",
    "        \n",
    "    query = input()\n",
    "    keywords = query.split()\n",
    "    \n",
    "    term_ids = getIds(keywords)\n",
    "    books = getBooks(term_ids)\n",
    "    \n",
    "    return books\n",
    "    \n",
    "    "
   ]
  },
  {
   "cell_type": "code",
   "execution_count": 57,
   "metadata": {},
   "outputs": [
    {
     "name": "stdout",
     "output_type": "stream",
     "text": [
      "love win fight mother\n"
     ]
    },
    {
     "data": {
      "text/plain": [
       "{22813, 586719, 1114214, 1214197417}"
      ]
     },
     "execution_count": 57,
     "metadata": {},
     "output_type": "execute_result"
    }
   ],
   "source": [
    "searchEngine1(voc, diz)"
   ]
  }
 ],
 "metadata": {
  "kernelspec": {
   "display_name": "Python 3",
   "language": "python",
   "name": "python3"
  },
  "language_info": {
   "codemirror_mode": {
    "name": "ipython",
    "version": 3
   },
   "file_extension": ".py",
   "mimetype": "text/x-python",
   "name": "python",
   "nbconvert_exporter": "python",
   "pygments_lexer": "ipython3",
   "version": "3.8.3"
  }
 },
 "nbformat": 4,
 "nbformat_minor": 4
}
